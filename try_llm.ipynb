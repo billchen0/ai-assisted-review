{
 "cells": [
  {
   "cell_type": "code",
   "execution_count": 1,
   "metadata": {},
   "outputs": [],
   "source": [
    "from pathlib import Path\n",
    "\n",
    "from model_client import ModelClient, get_prompt\n",
    "from pdf_extraction import extract_text_from_pdf"
   ]
  },
  {
   "cell_type": "code",
   "execution_count": 2,
   "metadata": {},
   "outputs": [],
   "source": [
    "pdf_path = Path(\"./data/pdfs\")\n",
    "client = ModelClient()\n",
    "\n",
    "responses = []\n",
    "for pdf in list(pdf_path.glob(\"*.pdf\"))[1:2]:\n",
    "    paper_text = extract_text_from_pdf(pdf)\n",
    "    prompt = get_prompt(paper_text)\n",
    "    response = client.ask_chatgpt(prompt)\n",
    "    responses.append(response)"
   ]
  },
  {
   "cell_type": "code",
   "execution_count": 3,
   "metadata": {},
   "outputs": [
    {
     "name": "stdout",
     "output_type": "stream",
     "text": [
      "ChatCompletionMessage(content='Paper Title: A Comparison among Different Strategies to Detect Potential Unstable Behaviors in Postural Sway,\\nDecision: Include,\\nReason: ,\\nNote:', refusal=None, role='assistant', audio=None, function_call=None, tool_calls=None)\n"
     ]
    }
   ],
   "source": [
    "print(responses[0])"
   ]
  },
  {
   "cell_type": "code",
   "execution_count": null,
   "metadata": {},
   "outputs": [],
   "source": []
  }
 ],
 "metadata": {
  "kernelspec": {
   "display_name": "ai-review",
   "language": "python",
   "name": "python3"
  },
  "language_info": {
   "codemirror_mode": {
    "name": "ipython",
    "version": 3
   },
   "file_extension": ".py",
   "mimetype": "text/x-python",
   "name": "python",
   "nbconvert_exporter": "python",
   "pygments_lexer": "ipython3",
   "version": "3.10.16"
  }
 },
 "nbformat": 4,
 "nbformat_minor": 2
}
