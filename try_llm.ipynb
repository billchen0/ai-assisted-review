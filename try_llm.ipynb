{
 "cells": [
  {
   "cell_type": "code",
   "execution_count": 1,
   "metadata": {},
   "outputs": [],
   "source": [
    "from pathlib import Path\n",
    "import pandas as pd\n",
    "import numpy as np\n",
    "import time\n",
    "import ast\n",
    "\n",
    "from model_client import ModelClient, get_prompt\n",
    "from pdf_extraction import extract_text_from_pdf"
   ]
  },
  {
   "cell_type": "code",
   "execution_count": 2,
   "metadata": {},
   "outputs": [],
   "source": [
    "def screen_paper(pdf_path, model=\"chatgpt\"):\n",
    "    client = ModelClient()\n",
    "\n",
    "    titles = []\n",
    "    responses = []\n",
    "    times = []\n",
    "\n",
    "    for pdf in pdf_path.glob(\"*.pdf\"):\n",
    "        titles.append(pdf.stem)\n",
    "        paper_text = extract_text_from_pdf(pdf)\n",
    "        prompt = get_prompt(paper_text)\n",
    "\n",
    "        start_time = time.time()\n",
    "        \n",
    "        if model == \"chatgpt\":\n",
    "            response = client.ask_chatgpt(prompt)\n",
    "        elif model == \"claude\":\n",
    "            response = client.ask_claude(prompt)\n",
    "        elif model == \"llama\":\n",
    "            response = client.ask_llama(prompt)\n",
    "        else:\n",
    "            raise \"Model Not Found\"\n",
    "        \n",
    "        end_time = time.time()\n",
    "\n",
    "        responses.append(response)\n",
    "        times.append(end_time - start_time)\n",
    "    \n",
    "    return titles, responses, times"
   ]
  },
  {
   "cell_type": "code",
   "execution_count": 3,
   "metadata": {},
   "outputs": [],
   "source": [
    "def compile_result(titles, responses, times, save_path):\n",
    "    results = []\n",
    "    for title, response in zip(titles, responses):\n",
    "        result = ast.literal_eval(response)\n",
    "        result[\"Title\"] = title\n",
    "        results.append(result)\n",
    "    \n",
    "    mean_time = np.mean(times)\n",
    "    std_dev_time = np.std(times)\n",
    "    print(\"Mean Time: \", mean_time)\n",
    "    print(\"Standard Deviation: \", std_dev_time)\n",
    "\n",
    "    df = pd.DataFrame(results)\n",
    "    df.to_csv(save_path, index=False)"
   ]
  },
  {
   "cell_type": "code",
   "execution_count": 4,
   "metadata": {},
   "outputs": [],
   "source": [
    "pdf_path = Path(\"./data/pdfs\")\n",
    "save_root = Path(\"./data/results\")"
   ]
  },
  {
   "cell_type": "code",
   "execution_count": 5,
   "metadata": {},
   "outputs": [
    {
     "name": "stdout",
     "output_type": "stream",
     "text": [
      "Mean Time:  2.7227685332298277\n",
      "Standard Deviation:  2.0831197106799415\n"
     ]
    }
   ],
   "source": [
    "model = \"chatgpt\"\n",
    "save_path = save_root / f\"{model}_results.csv\"\n",
    "titles, responses, times = screen_paper(pdf_path, model=model)\n",
    "compile_result(titles, responses, times, save_path)"
   ]
  },
  {
   "cell_type": "code",
   "execution_count": 6,
   "metadata": {},
   "outputs": [
    {
     "name": "stdout",
     "output_type": "stream",
     "text": [
      "Mean Time:  18.040290200710295\n",
      "Standard Deviation:  14.781996082857068\n"
     ]
    }
   ],
   "source": [
    "model = \"claude\"\n",
    "save_path = save_root / f\"{model}_results.csv\"\n",
    "titles, responses, times = screen_paper(pdf_path, model=model)\n",
    "compile_result(titles, responses, times, save_path)"
   ]
  },
  {
   "cell_type": "code",
   "execution_count": 7,
   "metadata": {},
   "outputs": [
    {
     "name": "stdout",
     "output_type": "stream",
     "text": [
      "Mean Time:  0.29912456274032595\n",
      "Standard Deviation:  0.27146651580838643\n"
     ]
    }
   ],
   "source": [
    "model = \"llama\"\n",
    "save_path = save_root / f\"{model}_results.csv\"\n",
    "titles, responses, times = screen_paper(pdf_path, model=model)\n",
    "compile_result(titles, responses, times, save_path)"
   ]
  }
 ],
 "metadata": {
  "kernelspec": {
   "display_name": "ai-review",
   "language": "python",
   "name": "python3"
  },
  "language_info": {
   "codemirror_mode": {
    "name": "ipython",
    "version": 3
   },
   "file_extension": ".py",
   "mimetype": "text/x-python",
   "name": "python",
   "nbconvert_exporter": "python",
   "pygments_lexer": "ipython3",
   "version": "3.10.16"
  }
 },
 "nbformat": 4,
 "nbformat_minor": 2
}
