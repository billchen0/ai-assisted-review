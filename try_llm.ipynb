{
 "cells": [
  {
   "cell_type": "code",
   "execution_count": 5,
   "metadata": {},
   "outputs": [],
   "source": [
    "from pathlib import Path\n",
    "import pandas as pd\n",
    "import time\n",
    "import ast\n",
    "\n",
    "from model_client import ModelClient, get_prompt\n",
    "from pdf_extraction import extract_text_from_pdf"
   ]
  },
  {
   "cell_type": "code",
   "execution_count": 6,
   "metadata": {},
   "outputs": [],
   "source": [
    "pdf_path = Path(\"./data/pdfs\")\n",
    "client = ModelClient()\n",
    "\n",
    "responses = []\n",
    "times = []\n",
    "for pdf in pdf_path.glob(\"*.pdf\"):\n",
    "    start_time = time.time()\n",
    "\n",
    "    paper_text = extract_text_from_pdf(pdf)\n",
    "    prompt = get_prompt(paper_text)\n",
    "    response = client.ask_claude(prompt)\n",
    "    responses.append(response)\n",
    "\n",
    "    end_time = time.time()\n",
    "    times.append(end_time - start_time)"
   ]
  },
  {
   "cell_type": "code",
   "execution_count": 49,
   "metadata": {},
   "outputs": [],
   "source": [
    "import re\n",
    "\n",
    "cleaned_responses = []\n",
    "pattern = r'(.*\\})\\s*(.*)'\n",
    "\n",
    "for r in responses:\n",
    "    match = re.match(pattern, r, re.DOTALL)\n",
    "    if match:\n",
    "        dict_part = match.group(1)\n",
    "        notes_part = match.group(2)\n",
    "        cleaned_r = ast.literal_eval(dict_part)\n",
    "        cleaned_r[\"Note\"] = notes_part.strip()\n",
    "        cleaned_responses.append(cleaned_r)"
   ]
  },
  {
   "cell_type": "code",
   "execution_count": null,
   "metadata": {},
   "outputs": [],
   "source": [
    "# results = pd.DataFrame(cleaned_responses)\n",
    "# save_path = Path(\"./data/results/claude_results.csv\")\n",
    "# results.to_csv(save_path, index=False)"
   ]
  },
  {
   "cell_type": "code",
   "execution_count": 55,
   "metadata": {},
   "outputs": [
    {
     "data": {
      "text/plain": [
       "18.00835068821907"
      ]
     },
     "execution_count": 55,
     "metadata": {},
     "output_type": "execute_result"
    }
   ],
   "source": [
    "sum(times) / len(times)"
   ]
  },
  {
   "cell_type": "code",
   "execution_count": null,
   "metadata": {},
   "outputs": [],
   "source": []
  }
 ],
 "metadata": {
  "kernelspec": {
   "display_name": "ai-review",
   "language": "python",
   "name": "python3"
  },
  "language_info": {
   "codemirror_mode": {
    "name": "ipython",
    "version": 3
   },
   "file_extension": ".py",
   "mimetype": "text/x-python",
   "name": "python",
   "nbconvert_exporter": "python",
   "pygments_lexer": "ipython3",
   "version": "3.10.16"
  }
 },
 "nbformat": 4,
 "nbformat_minor": 2
}
