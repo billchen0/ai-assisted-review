{
 "cells": [
  {
   "cell_type": "code",
   "execution_count": 1,
   "metadata": {},
   "outputs": [],
   "source": [
    "from pathlib import Path\n",
    "import pandas as pd\n",
    "import time\n",
    "import ast\n",
    "\n",
    "from model_client import ModelClient, get_prompt\n",
    "from pdf_extraction import extract_text_from_pdf"
   ]
  },
  {
   "cell_type": "code",
   "execution_count": 2,
   "metadata": {},
   "outputs": [],
   "source": [
    "pdf_path = Path(\"./data/pdfs\")\n",
    "client = ModelClient()\n",
    "\n",
    "titles = []\n",
    "responses = []\n",
    "times = []\n",
    "for pdf in pdf_path.glob(\"*.pdf\"):\n",
    "    start_time = time.time()\n",
    "\n",
    "    titles.append(pdf.stem)\n",
    "    paper_text = extract_text_from_pdf(pdf)\n",
    "    prompt = get_prompt(paper_text)\n",
    "    response = client.ask_llama(prompt)\n",
    "    responses.append(response)\n",
    "\n",
    "    end_time = time.time()\n",
    "    times.append(end_time - start_time)"
   ]
  },
  {
   "cell_type": "code",
   "execution_count": 12,
   "metadata": {},
   "outputs": [],
   "source": [
    "cleaned_responses = []\n",
    "for title, response in zip(titles, responses):\n",
    "    data = ast.literal_eval(response)\n",
    "    data[\"Paper Title\"] = title\n",
    "    cleaned_responses.append(data)"
   ]
  },
  {
   "cell_type": "code",
   "execution_count": 17,
   "metadata": {},
   "outputs": [],
   "source": [
    "results = pd.DataFrame(cleaned_responses)\n",
    "save_path = Path(\"./data/results/llama_results.csv\")\n",
    "results.to_csv(save_path, index=False)"
   ]
  },
  {
   "cell_type": "code",
   "execution_count": 16,
   "metadata": {},
   "outputs": [
    {
     "data": {
      "text/plain": [
       "33.30768549442291"
      ]
     },
     "execution_count": 16,
     "metadata": {},
     "output_type": "execute_result"
    }
   ],
   "source": [
    "sum(times) / len(times)"
   ]
  },
  {
   "cell_type": "code",
   "execution_count": null,
   "metadata": {},
   "outputs": [],
   "source": []
  }
 ],
 "metadata": {
  "kernelspec": {
   "display_name": "ai-review",
   "language": "python",
   "name": "python3"
  },
  "language_info": {
   "codemirror_mode": {
    "name": "ipython",
    "version": 3
   },
   "file_extension": ".py",
   "mimetype": "text/x-python",
   "name": "python",
   "nbconvert_exporter": "python",
   "pygments_lexer": "ipython3",
   "version": "3.10.16"
  }
 },
 "nbformat": 4,
 "nbformat_minor": 2
}
